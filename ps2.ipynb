{
  "nbformat": 4,
  "nbformat_minor": 5,
  "metadata": {
    "kernelspec": {
      "display_name": "Python 3",
      "language": "python",
      "name": "python3"
    },
    "language_info": {
      "codemirror_mode": {
        "name": "ipython",
        "version": 3
      },
      "file_extension": ".py",
      "mimetype": "text/x-python",
      "name": "python",
      "nbconvert_exporter": "python",
      "pygments_lexer": "ipython3",
      "version": "3.7.9"
    },
    "colab": {
      "name": "ps2.ipynb",
      "provenance": []
    }
  },
  "cells": [
    {
      "cell_type": "code",
      "metadata": {
        "id": "thick-flush"
      },
      "source": [
        "import pandas as pd\n",
        "import numpy as np\n",
        "import matplotlib.pyplot as plt\n",
        "import email\n",
        "from bs4 import BeautifulSoup"
      ],
      "id": "thick-flush",
      "execution_count": null,
      "outputs": []
    },
    {
      "cell_type": "code",
      "metadata": {
        "id": "civic-operation"
      },
      "source": [
        "from os import listdir\n",
        "from os.path import isfile, join"
      ],
      "id": "civic-operation",
      "execution_count": null,
      "outputs": []
    },
    {
      "cell_type": "markdown",
      "metadata": {
        "id": "therapeutic-emerald"
      },
      "source": [
        "# Spam Filter\n",
        "A spam filter is a computer program that classifies e-mail messages as either spam (unwanted)or ham (wanted).  The spam filter maintains a set of features.  A feature is a characteristicof messages that the spam filter can use to distinguish ham from spam.  A feature could besimply the presence of a word in the message, for example, ”the message contains the word’lottery’”, and it could be much more complex/powerful, for example, ”the subject line is allcapitals” or ”the message body mentions many Internet domains”. \n",
        "\n",
        "Given  (1)  a  set  of  features,  (2)  a  set  of  messages  known  to  be  ham,  and  (3)  a  set  ofmessages known to be spam, the spam filter learns how to classify incoming messages as hamor spam. \n",
        "\n",
        "In this exercise we are going to train a spam filter using the Apache SpamAssassin public mail corpus. "
      ],
      "id": "therapeutic-emerald"
    },
    {
      "cell_type": "markdown",
      "metadata": {
        "id": "funded-destruction"
      },
      "source": [
        "1.  Download  the  files 20030228_easy_ham.tar.bz2and20030228_spam.tar.bz2 from https://spamassassin.apache.org/old/publiccorpus/.  The first file contains 2500 ham messages, and the second one contains 500 spam messages.\n",
        "2.  Unzip the datasets and familiarize yourself with the data format."
      ],
      "id": "funded-destruction"
    },
    {
      "cell_type": "code",
      "metadata": {
        "id": "portable-accordance"
      },
      "source": [
        "hamfiles = [f for f in listdir('C:/Users/sesa561203/Documents/Supervised Learning/ps2/easy_ham')]\n",
        "spamfiles = [f for f in listdir('C:/Users/sesa561203/Documents/Supervised Learning/ps2/spam')]\n",
        "\n",
        "#removing the last file as it is not an email\n",
        "hamfiles = hamfiles[:-1]\n",
        "spamfiles = spamfiles[:-1]"
      ],
      "id": "portable-accordance",
      "execution_count": null,
      "outputs": []
    },
    {
      "cell_type": "markdown",
      "metadata": {
        "id": "second-excitement"
      },
      "source": [
        "3.  Use Python’s email module to parse the email messages (see code example at the end)."
      ],
      "id": "second-excitement"
    },
    {
      "cell_type": "code",
      "metadata": {
        "id": "enclosed-houston"
      },
      "source": [
        "def parse_email(file_path):\n",
        "    with open(file_path, 'rb') as f:\n",
        "        msg = email.message_from_bytes(f.read())\n",
        "        \n",
        "    subject = str(msg.get('Subject'))\n",
        "    subject = BeautifulSoup(subject).get_text()\n",
        "        \n",
        "    body = str(msg.get_payload())\n",
        "        \n",
        "    body = BeautifulSoup(body).get_text()\n",
        "        \n",
        "    return subject, body"
      ],
      "id": "enclosed-houston",
      "execution_count": null,
      "outputs": []
    },
    {
      "cell_type": "code",
      "metadata": {
        "id": "unlikely-hamburg",
        "outputId": "e979b4a6-7fac-40e9-b8f4-7d31df656c9e"
      },
      "source": [
        "for x in hamfiles:\n",
        "    subject, body = parse_email('C:/Users/sesa561203/Documents/Supervised Learning/ps2/easy_ham/' + x)\n",
        "print(subject, body)\n",
        "\n",
        "for x in spamfiles:\n",
        "    subject, body = parse_email('C:/Users/sesa561203/Documents/Supervised Learning/ps2/spam/' + x)\n",
        "print(subject, body)"
      ],
      "id": "unlikely-hamburg",
      "execution_count": null,
      "outputs": [
        {
          "output_type": "stream",
          "text": [
            "C:\\Users\\sesa561203\\Anaconda3\\lib\\site-packages\\bs4\\__init__.py:424: MarkupResemblesLocatorWarning: \"http://www.post-gazette.com/columnists/20020905brian5.asp\n",
            "\n",
            "\n",
            "\n",
            "\" looks like a URL. Beautiful Soup is not an HTTP client. You should probably use an HTTP client like requests to get the document behind the URL, and feed that document to Beautiful Soup.\n",
            "  MarkupResemblesLocatorWarning\n",
            "C:\\Users\\sesa561203\\Anaconda3\\lib\\site-packages\\bs4\\__init__.py:424: MarkupResemblesLocatorWarning: \"http://apt.nixia.no/\" looks like a URL. Beautiful Soup is not an HTTP client. You should probably use an HTTP client like requests to get the document behind the URL, and feed that document to Beautiful Soup.\n",
            "  MarkupResemblesLocatorWarning\n"
          ],
          "name": "stderr"
        },
        {
          "output_type": "stream",
          "text": [
            "Re: [ILUG] Linux Install Hi,\n",
            "\n",
            "I think you need to give us a little more detailed information.\n",
            "\n",
            "On Wed, 04 Dec 2002, Gianni Ponzi wrote:\n",
            "\n",
            "> I have a prob when trying to install Linux (tried RedHat, Suse) on my\n",
            "> laptop. \n",
            "\n",
            "You get _exactly_ the same problem with Suse and RedHat, is that right?\n",
            "What versions of these have you used?\n",
            "\n",
            "> I can start the install but after about 2min, the whole pc just\n",
            "> dies.\n",
            "\n",
            "As in freezes, reboots?  Do you get any errors?\n",
            "\n",
            "> I know it's not a Linux prob and here is what I have encountered:\n",
            "> \n",
            "> I had the same problem when installing Win on it and eventually sorted it\n",
            "> out by disabling the infrared port. \n",
            "\n",
            "Did you disable it in the BIOS or in windows?\n",
            "\n",
            "> I'm guessing this might be same prob although I'm not sure. I am very new\n",
            "> to Linux so it's not that easy for me to work it out. I did manage to\n",
            "> follow the setup procedure at one stage (using images on disks) and it\n",
            "> cuts out either as it's trying to verify what CD-Rom I have or just after\n",
            "> (hence my suspicion of the infrared port again).\n",
            "\n",
            "1. What laptop is it?  What is the Processor and how much RAM does it have?\n",
            "\n",
            "2. You cannot simply boot off the cdrom?  It must be quite an old laptop\n",
            "then or else cdrom booting is disabled in the BIOS.  Is the cdrom external\n",
            "or strange in some way?\n",
            "\n",
            "Gavin\n",
            "\n",
            "-- \n",
            "Irish Linux Users' Group: ilug@linux.ie\n",
            "http://www.linux.ie/mailman/listinfo/ilug for (un)subscription information.\n",
            "List maintainer: listmaster@linux.ie\n",
            "\n",
            "\n",
            "\n"
          ],
          "name": "stdout"
        },
        {
          "output_type": "stream",
          "text": [
            "C:\\Users\\sesa561203\\Anaconda3\\lib\\site-packages\\bs4\\__init__.py:424: MarkupResemblesLocatorWarning: \"http://www.efi.ie/\" looks like a URL. Beautiful Soup is not an HTTP client. You should probably use an HTTP client like requests to get the document behind the URL, and feed that document to Beautiful Soup.\n",
            "  MarkupResemblesLocatorWarning\n"
          ],
          "name": "stderr"
        },
        {
          "output_type": "stream",
          "text": [
            "HK Email marking ! \n",
            "\n",
            "\n",
            "(Hello,This is Chinese Traditional)\n",
            "\n",
            "\n",
            "\n",
            "\n",
            "��子�]件 ――21世�o最有效的宣�鞣绞剑�\n",
            "   您想����地10�f人同一�r刻知道您的�V告�幔磕�想方便快捷的宣�髂�的企�I�幔�\n",
            "\n",
            "   您想在商�I����中步步���紫��C�幔�\n",
            "您想一次�碛����|����在商�I客���幔�\n",
            "   越�碓蕉嗟恼{查表明 ，�W路直�N����成��未���I�N方式的主流，而E-mail�⑹蔷W上�I�N最常用也是最��用的工具。\n",
            "其特�c：�����V，�r效高，�r格低。��eMarketer估��，美��有61%的中等��模公司��常�\\用��子�]件�M行�I�N活�印�\n",
            "\n",
            "部分�V告媒�w平均回��率比�^ （Average Response\n",
            "Rate Ranges） \n",
            "　 0.5-1% 普通横幅广告(banner ads) \n",
            "\n",
            "　 1-2% 普通信件(direct mail) \n",
            "\n",
            "　 10-15% ��子�]件(Email) \n",
            "\n",
            "\n",
            "一 [�]件出售] \n",
            "\n",
            "���I全球�]件地址： 每1000�f/500HK （���I全部9000�f/3600HK）\n",
            "\n",
            "���I香港�]件地址： 每10�f/400HK   （���I香港全部325�f/5500HK）\n",
            " free download\n",
            "���I�_�赤]件地址： 每10�f/400HK   （���I�_�橙�部201�f/4500HK）\n",
            " free download\n",
            "\n",
            "    [�]件�l送]\n",
            "�V告�]件代理�l送： 每10�f/500HK 20�f起�l\n",
            "（�蚀_率90%以上）\n",
            "包周群�l：         一周60�f/2500HK\n",
            "\n",
            "           \n",
            "       一周100�f/4000HK\n",
            "（保�C�W站日�L��量提升2000以上）\n",
            "包月群�l：         一月500�f/9500HK\n",
            "（保�C�W站日�L��量提升5000以上） \n",
            "\n",
            "    [�]件���w]\n",
            "70�N套群�l，搜索，�W路�l�衍��w/2200HK ��你自己�碛幸惶淄晟频碾�子�]件群�l，搜索，�W路�l�严到y\n",
            "有意者请来信联系：yhzx599@vip.sina.com\n",
            "\n",
            "二 搜索引擎�]�缘顷� （超值服�眨�特惠�r2200\n",
            "HK）\n",
            "�y河之星�湍�登��全球6000��英文搜索引擎，�M200��中文搜索引擎。��你的�W站享�u全球。\n",
            "\n",
            "\n",
            "e-mail地址在各地�^的分���盗�\n",
            "\n",
            "香港――――――――――――――――――――――――――――――――32525642��\n",
            " free download the sample\n",
            "�_�场�―――――――――――――――――――――――――――――――20012356��\n",
            " free download the sample\n",
            "全球――――――――――――――――――――――――――――――――9000�f\n",
            "\n",
            "\n",
            "\n",
            "  �y河之星�碛����韧馍��|��有效的email位址�Y料�欤�可以根��客�舻男枰�，在指定的地方，�^域,行�I���e等�傩酝斗烹�子�]件�V告。\n",
            "如：你想��某地10�f人一天之��都知道你的�a品，�Y��。那麽�V告�]件投放就是你最好的解�Q方案，它的�r格是所有�髅��r格中最低，\n",
            "但又是最有效的。�C遇每�r每刻都等待著你，也�S你正是用了�@�拥��髅菏侄危�而打垮了所有的�����κ帧Ｚs快行�影桑���你的企�I，\n",
            "公司立即掌握商�I�髅降拿��}------�V告e-mail。�@是普通�麂N���I所不能比�M的。\n",
            "\n",
            "\n",
            "���M及付款方式：\n",
            "本公司�氖戮W路�V告多年，宣�髁Χ任痪又���第四大�W路�V告商之一，\n",
            "我��有�ｉT的技�g人�T和高速���I的服�障到y�氖麓隧�工作，必����您的企�I提供最迅捷、最有效、最�M意的服�铡�\n",
            "\n",
            "\n",
            "需求客�粽��c�暨@�Y（���M�]箱)\n",
            "yhzx599@vip.sina.com （�硇耪�注明您需要的服�张c���M方式，我������快回�湍�。）\n",
            "\n",
            "港、澳、�_地�^付款方式（任何��家均可到��地�y行���R，2-3天到�ぃ�\n",
            "需到��地�y行�k理���R \n",
            "English:\n",
            "\n",
            "BENIFICIARY CUSTOMER:  wangjingjing\n",
            "A/C BANK:          \n",
            "   BANK OF CHINA MIANYANG BRANCH\n",
            "A/C NO:          \n",
            "     8209 9802 0003 158\n",
            "BENIFICIARY'S TEL NO : 0816-6623109\n",
            "\n",
            "中文�φ眨�\n",
            "收 款 人： 王晶晶\n",
            "收款�y行： 中���y行�d��分行\n",
            "��    ��： 8209 9802 0003 158\n",
            "收款人����：0816-6623109\n",
            "\n",
            "2-3天到�ぃ�款到後我���⒘⒓���您提供最�M意服�铡�\n",
            "\n",
            "�g迎�硇��黼��J�����M ����：0086-0816-6623109\n",
            "\n",
            "\n",
            "�y河之星�W路�Y��有限公司\n",
            "公司地址：中��大���d��\n",
            "EMAIL：yhzx599@vip.sina.com \n",
            "�J������：0086-0816-6623109 \n",
            "\n",
            "-----------------------------------------------------------------------------------------------------------------------------------\n",
            "公司服���０福壕W路推�V �W站建�O �W路��名\n",
            "�W��寄存 功能���得��Q空�g ���w�l展等，�r�X低廉，服�����|�g迎�硇��黼����M\n",
            "-----------------------------------------------------------------------------------------------------------------------------------\n",
            "\n",
            "\n"
          ],
          "name": "stdout"
        }
      ]
    },
    {
      "cell_type": "code",
      "metadata": {
        "id": "shared-sheffield",
        "outputId": "6f0d1be8-e214-423d-ce8f-35f9271407a0"
      },
      "source": [
        "subject = []\n",
        "body = []\n",
        "for x in hamfiles:\n",
        "    sub, bod = parse_email('C:/Users/sesa561203/Documents/Supervised Learning/ps2/easy_ham/' + x)\n",
        "    subject.append(sub)\n",
        "    body.append(bod)\n",
        "\n",
        "ham = pd.DataFrame(\n",
        "    {'Subject': subject,\n",
        "     'Body': body,\n",
        "     'Type': 0\n",
        "    })\n",
        "\n",
        "ham.head()"
      ],
      "id": "shared-sheffield",
      "execution_count": null,
      "outputs": [
        {
          "output_type": "execute_result",
          "data": {
            "text/html": [
              "<div>\n",
              "<style scoped>\n",
              "    .dataframe tbody tr th:only-of-type {\n",
              "        vertical-align: middle;\n",
              "    }\n",
              "\n",
              "    .dataframe tbody tr th {\n",
              "        vertical-align: top;\n",
              "    }\n",
              "\n",
              "    .dataframe thead th {\n",
              "        text-align: right;\n",
              "    }\n",
              "</style>\n",
              "<table border=\"1\" class=\"dataframe\">\n",
              "  <thead>\n",
              "    <tr style=\"text-align: right;\">\n",
              "      <th></th>\n",
              "      <th>Subject</th>\n",
              "      <th>Body</th>\n",
              "      <th>Type</th>\n",
              "    </tr>\n",
              "  </thead>\n",
              "  <tbody>\n",
              "    <tr>\n",
              "      <th>0</th>\n",
              "      <td>Re: New Sequences Window</td>\n",
              "      <td>Date:        Wed, 21 Aug 2002 10:54:46 -0500\\n...</td>\n",
              "      <td>0</td>\n",
              "    </tr>\n",
              "    <tr>\n",
              "      <th>1</th>\n",
              "      <td>[zzzzteana] RE: Alexander</td>\n",
              "      <td>Martin A posted:\\nTassos Papadopoulos, the Gre...</td>\n",
              "      <td>0</td>\n",
              "    </tr>\n",
              "    <tr>\n",
              "      <th>2</th>\n",
              "      <td>[zzzzteana] Moscow bomber</td>\n",
              "      <td>Man Threatens Explosion In Moscow \\n\\nThursday...</td>\n",
              "      <td>0</td>\n",
              "    </tr>\n",
              "    <tr>\n",
              "      <th>3</th>\n",
              "      <td>[IRR] Klez: The Virus That  Won't Die</td>\n",
              "      <td>Klez: The Virus That Won't Die\\n \\nAlready the...</td>\n",
              "      <td>0</td>\n",
              "    </tr>\n",
              "    <tr>\n",
              "      <th>4</th>\n",
              "      <td>Re: [zzzzteana] Nothing like mama used to make</td>\n",
              "      <td>&gt;  in adding cream to spaghetti carbonara, whi...</td>\n",
              "      <td>0</td>\n",
              "    </tr>\n",
              "  </tbody>\n",
              "</table>\n",
              "</div>"
            ],
            "text/plain": [
              "                                          Subject  \\\n",
              "0                        Re: New Sequences Window   \n",
              "1                       [zzzzteana] RE: Alexander   \n",
              "2                       [zzzzteana] Moscow bomber   \n",
              "3           [IRR] Klez: The Virus That  Won't Die   \n",
              "4  Re: [zzzzteana] Nothing like mama used to make   \n",
              "\n",
              "                                                Body  Type  \n",
              "0  Date:        Wed, 21 Aug 2002 10:54:46 -0500\\n...     0  \n",
              "1  Martin A posted:\\nTassos Papadopoulos, the Gre...     0  \n",
              "2  Man Threatens Explosion In Moscow \\n\\nThursday...     0  \n",
              "3  Klez: The Virus That Won't Die\\n \\nAlready the...     0  \n",
              "4  >  in adding cream to spaghetti carbonara, whi...     0  "
            ]
          },
          "metadata": {
            "tags": []
          },
          "execution_count": 6
        }
      ]
    },
    {
      "cell_type": "code",
      "metadata": {
        "id": "changing-restriction",
        "outputId": "f2cafc70-f177-4cf4-c762-91993111c749"
      },
      "source": [
        "subject = []\n",
        "body = []\n",
        "for x in spamfiles:\n",
        "    sub, bod = parse_email('C:/Users/sesa561203/Documents/Supervised Learning/ps2/spam/' + x)\n",
        "    subject.append(sub)\n",
        "    body.append(bod)\n",
        "    \n",
        "spam = pd.DataFrame(\n",
        "    {'Subject': subject,\n",
        "     'Body': body,\n",
        "     'Type': 1\n",
        "    })\n",
        "\n",
        "spam.head()"
      ],
      "id": "changing-restriction",
      "execution_count": null,
      "outputs": [
        {
          "output_type": "stream",
          "text": [
            "C:\\Users\\sesa561203\\Anaconda3\\lib\\site-packages\\bs4\\__init__.py:424: MarkupResemblesLocatorWarning: \"http://www.efi.ie/\" looks like a URL. Beautiful Soup is not an HTTP client. You should probably use an HTTP client like requests to get the document behind the URL, and feed that document to Beautiful Soup.\n",
            "  MarkupResemblesLocatorWarning\n"
          ],
          "name": "stderr"
        },
        {
          "output_type": "execute_result",
          "data": {
            "text/html": [
              "<div>\n",
              "<style scoped>\n",
              "    .dataframe tbody tr th:only-of-type {\n",
              "        vertical-align: middle;\n",
              "    }\n",
              "\n",
              "    .dataframe tbody tr th {\n",
              "        vertical-align: top;\n",
              "    }\n",
              "\n",
              "    .dataframe thead th {\n",
              "        text-align: right;\n",
              "    }\n",
              "</style>\n",
              "<table border=\"1\" class=\"dataframe\">\n",
              "  <thead>\n",
              "    <tr style=\"text-align: right;\">\n",
              "      <th></th>\n",
              "      <th>Subject</th>\n",
              "      <th>Body</th>\n",
              "      <th>Type</th>\n",
              "    </tr>\n",
              "  </thead>\n",
              "  <tbody>\n",
              "    <tr>\n",
              "      <th>0</th>\n",
              "      <td>Life Insurance - Why Pay More?</td>\n",
              "      <td>\\n\\n\\n\\n\\n\\n\\n\\n\\n\\n\\n\\n\\n&lt;=\\n/TR&gt;\\nSave up to...</td>\n",
              "      <td>1</td>\n",
              "    </tr>\n",
              "    <tr>\n",
              "      <th>1</th>\n",
              "      <td>[ILUG] Guaranteed to lose 10-12 lbs in 30 days...</td>\n",
              "      <td>1) Fight The Risk of Cancer!\\nhttp://www.adcli...</td>\n",
              "      <td>1</td>\n",
              "    </tr>\n",
              "    <tr>\n",
              "      <th>2</th>\n",
              "      <td>Guaranteed to lose 10-12 lbs in 30 days       ...</td>\n",
              "      <td>1) Fight The Risk of Cancer!\\nhttp://www.adcli...</td>\n",
              "      <td>1</td>\n",
              "    </tr>\n",
              "    <tr>\n",
              "      <th>3</th>\n",
              "      <td>Re: Fw: User Name &amp; Password to Membership To ...</td>\n",
              "      <td>##############################################...</td>\n",
              "      <td>1</td>\n",
              "    </tr>\n",
              "    <tr>\n",
              "      <th>4</th>\n",
              "      <td>[ILUG-Social] re: Guaranteed to lose 10-12 lbs...</td>\n",
              "      <td>I thought you might like these:\\n1) Slim Down ...</td>\n",
              "      <td>1</td>\n",
              "    </tr>\n",
              "  </tbody>\n",
              "</table>\n",
              "</div>"
            ],
            "text/plain": [
              "                                             Subject  \\\n",
              "0                     Life Insurance - Why Pay More?   \n",
              "1  [ILUG] Guaranteed to lose 10-12 lbs in 30 days...   \n",
              "2  Guaranteed to lose 10-12 lbs in 30 days       ...   \n",
              "3  Re: Fw: User Name & Password to Membership To ...   \n",
              "4  [ILUG-Social] re: Guaranteed to lose 10-12 lbs...   \n",
              "\n",
              "                                                Body  Type  \n",
              "0  \\n\\n\\n\\n\\n\\n\\n\\n\\n\\n\\n\\n\\n<=\\n/TR>\\nSave up to...     1  \n",
              "1  1) Fight The Risk of Cancer!\\nhttp://www.adcli...     1  \n",
              "2  1) Fight The Risk of Cancer!\\nhttp://www.adcli...     1  \n",
              "3  ##############################################...     1  \n",
              "4  I thought you might like these:\\n1) Slim Down ...     1  "
            ]
          },
          "metadata": {
            "tags": []
          },
          "execution_count": 7
        }
      ]
    },
    {
      "cell_type": "code",
      "metadata": {
        "id": "golden-drilling",
        "outputId": "a6051d91-e8cf-4fc8-e175-d02f0f7f009d"
      },
      "source": [
        "df = pd.concat([ham, spam])\n",
        "df"
      ],
      "id": "golden-drilling",
      "execution_count": null,
      "outputs": [
        {
          "output_type": "execute_result",
          "data": {
            "text/html": [
              "<div>\n",
              "<style scoped>\n",
              "    .dataframe tbody tr th:only-of-type {\n",
              "        vertical-align: middle;\n",
              "    }\n",
              "\n",
              "    .dataframe tbody tr th {\n",
              "        vertical-align: top;\n",
              "    }\n",
              "\n",
              "    .dataframe thead th {\n",
              "        text-align: right;\n",
              "    }\n",
              "</style>\n",
              "<table border=\"1\" class=\"dataframe\">\n",
              "  <thead>\n",
              "    <tr style=\"text-align: right;\">\n",
              "      <th></th>\n",
              "      <th>Subject</th>\n",
              "      <th>Body</th>\n",
              "      <th>Type</th>\n",
              "    </tr>\n",
              "  </thead>\n",
              "  <tbody>\n",
              "    <tr>\n",
              "      <th>0</th>\n",
              "      <td>Re: New Sequences Window</td>\n",
              "      <td>Date:        Wed, 21 Aug 2002 10:54:46 -0500\\n...</td>\n",
              "      <td>0</td>\n",
              "    </tr>\n",
              "    <tr>\n",
              "      <th>1</th>\n",
              "      <td>[zzzzteana] RE: Alexander</td>\n",
              "      <td>Martin A posted:\\nTassos Papadopoulos, the Gre...</td>\n",
              "      <td>0</td>\n",
              "    </tr>\n",
              "    <tr>\n",
              "      <th>2</th>\n",
              "      <td>[zzzzteana] Moscow bomber</td>\n",
              "      <td>Man Threatens Explosion In Moscow \\n\\nThursday...</td>\n",
              "      <td>0</td>\n",
              "    </tr>\n",
              "    <tr>\n",
              "      <th>3</th>\n",
              "      <td>[IRR] Klez: The Virus That  Won't Die</td>\n",
              "      <td>Klez: The Virus That Won't Die\\n \\nAlready the...</td>\n",
              "      <td>0</td>\n",
              "    </tr>\n",
              "    <tr>\n",
              "      <th>4</th>\n",
              "      <td>Re: [zzzzteana] Nothing like mama used to make</td>\n",
              "      <td>&gt;  in adding cream to spaghetti carbonara, whi...</td>\n",
              "      <td>0</td>\n",
              "    </tr>\n",
              "    <tr>\n",
              "      <th>...</th>\n",
              "      <td>...</td>\n",
              "      <td>...</td>\n",
              "      <td>...</td>\n",
              "    </tr>\n",
              "    <tr>\n",
              "      <th>495</th>\n",
              "      <td>hurry</td>\n",
              "      <td>\\n\\nToy\\n\\n\\n\\nABC's Good Morning America rank...</td>\n",
              "      <td>1</td>\n",
              "    </tr>\n",
              "    <tr>\n",
              "      <th>496</th>\n",
              "      <td>Do you need a second MORTGAGE?                ...</td>\n",
              "      <td>\\n\\nUntitled Document\\n\\n\\n\\n \\n \\n\\n\\n\\n\\n\\n\\...</td>\n",
              "      <td>1</td>\n",
              "    </tr>\n",
              "    <tr>\n",
              "      <th>497</th>\n",
              "      <td></td>\n",
              "      <td>[]</td>\n",
              "      <td>1</td>\n",
              "    </tr>\n",
              "    <tr>\n",
              "      <th>498</th>\n",
              "      <td>Earn Your Fortune on eBay!</td>\n",
              "      <td>\\n\\n\\n\\n\\n\\n\\n\\n\\n\\n\\n\\n\\n\\nThe \\n            ...</td>\n",
              "      <td>1</td>\n",
              "    </tr>\n",
              "    <tr>\n",
              "      <th>499</th>\n",
              "      <td>HK Email marking !</td>\n",
              "      <td>\\n\\n\\n(Hello,This is Chinese Traditional)\\n\\n\\...</td>\n",
              "      <td>1</td>\n",
              "    </tr>\n",
              "  </tbody>\n",
              "</table>\n",
              "<p>3000 rows × 3 columns</p>\n",
              "</div>"
            ],
            "text/plain": [
              "                                               Subject  \\\n",
              "0                             Re: New Sequences Window   \n",
              "1                            [zzzzteana] RE: Alexander   \n",
              "2                            [zzzzteana] Moscow bomber   \n",
              "3                [IRR] Klez: The Virus That  Won't Die   \n",
              "4       Re: [zzzzteana] Nothing like mama used to make   \n",
              "..                                                 ...   \n",
              "495                                              hurry   \n",
              "496  Do you need a second MORTGAGE?                ...   \n",
              "497                                                      \n",
              "498                         Earn Your Fortune on eBay!   \n",
              "499                                 HK Email marking !   \n",
              "\n",
              "                                                  Body  Type  \n",
              "0    Date:        Wed, 21 Aug 2002 10:54:46 -0500\\n...     0  \n",
              "1    Martin A posted:\\nTassos Papadopoulos, the Gre...     0  \n",
              "2    Man Threatens Explosion In Moscow \\n\\nThursday...     0  \n",
              "3    Klez: The Virus That Won't Die\\n \\nAlready the...     0  \n",
              "4    >  in adding cream to spaghetti carbonara, whi...     0  \n",
              "..                                                 ...   ...  \n",
              "495  \\n\\nToy\\n\\n\\n\\nABC's Good Morning America rank...     1  \n",
              "496  \\n\\nUntitled Document\\n\\n\\n\\n \\n \\n\\n\\n\\n\\n\\n\\...     1  \n",
              "497                                                 []     1  \n",
              "498  \\n\\n\\n\\n\\n\\n\\n\\n\\n\\n\\n\\n\\n\\nThe \\n            ...     1  \n",
              "499  \\n\\n\\n(Hello,This is Chinese Traditional)\\n\\n\\...     1  \n",
              "\n",
              "[3000 rows x 3 columns]"
            ]
          },
          "metadata": {
            "tags": []
          },
          "execution_count": 8
        }
      ]
    },
    {
      "cell_type": "code",
      "metadata": {
        "id": "useful-somerset"
      },
      "source": [
        "df['Text'] = df['Subject'] + df['Body']"
      ],
      "id": "useful-somerset",
      "execution_count": null,
      "outputs": []
    },
    {
      "cell_type": "code",
      "metadata": {
        "id": "elegant-representative",
        "outputId": "b3eeb401-6ee0-4876-94e5-821cfe9775c3"
      },
      "source": [
        "df = df.iloc[:,-2:]\n",
        "df.head()"
      ],
      "id": "elegant-representative",
      "execution_count": null,
      "outputs": [
        {
          "output_type": "execute_result",
          "data": {
            "text/html": [
              "<div>\n",
              "<style scoped>\n",
              "    .dataframe tbody tr th:only-of-type {\n",
              "        vertical-align: middle;\n",
              "    }\n",
              "\n",
              "    .dataframe tbody tr th {\n",
              "        vertical-align: top;\n",
              "    }\n",
              "\n",
              "    .dataframe thead th {\n",
              "        text-align: right;\n",
              "    }\n",
              "</style>\n",
              "<table border=\"1\" class=\"dataframe\">\n",
              "  <thead>\n",
              "    <tr style=\"text-align: right;\">\n",
              "      <th></th>\n",
              "      <th>Type</th>\n",
              "      <th>Text</th>\n",
              "    </tr>\n",
              "  </thead>\n",
              "  <tbody>\n",
              "    <tr>\n",
              "      <th>0</th>\n",
              "      <td>0</td>\n",
              "      <td>Re: New Sequences WindowDate:        Wed, 21 A...</td>\n",
              "    </tr>\n",
              "    <tr>\n",
              "      <th>1</th>\n",
              "      <td>0</td>\n",
              "      <td>[zzzzteana] RE: AlexanderMartin A posted:\\nTas...</td>\n",
              "    </tr>\n",
              "    <tr>\n",
              "      <th>2</th>\n",
              "      <td>0</td>\n",
              "      <td>[zzzzteana] Moscow bomberMan Threatens Explosi...</td>\n",
              "    </tr>\n",
              "    <tr>\n",
              "      <th>3</th>\n",
              "      <td>0</td>\n",
              "      <td>[IRR] Klez: The Virus That  Won't DieKlez: The...</td>\n",
              "    </tr>\n",
              "    <tr>\n",
              "      <th>4</th>\n",
              "      <td>0</td>\n",
              "      <td>Re: [zzzzteana] Nothing like mama used to make...</td>\n",
              "    </tr>\n",
              "  </tbody>\n",
              "</table>\n",
              "</div>"
            ],
            "text/plain": [
              "   Type                                               Text\n",
              "0     0  Re: New Sequences WindowDate:        Wed, 21 A...\n",
              "1     0  [zzzzteana] RE: AlexanderMartin A posted:\\nTas...\n",
              "2     0  [zzzzteana] Moscow bomberMan Threatens Explosi...\n",
              "3     0  [IRR] Klez: The Virus That  Won't DieKlez: The...\n",
              "4     0  Re: [zzzzteana] Nothing like mama used to make..."
            ]
          },
          "metadata": {
            "tags": []
          },
          "execution_count": 10
        }
      ]
    },
    {
      "cell_type": "markdown",
      "metadata": {
        "id": "floral-victor"
      },
      "source": [
        "4.  Apply text preprocessing techniques to convert each email into a feature vector.  Thesemay  include  tokenization  of  the  text  into  words,  removing  stop  words,  replacing  allURLs with ”URL”, TF-IDF vectorization, etc."
      ],
      "id": "floral-victor"
    },
    {
      "cell_type": "code",
      "metadata": {
        "id": "deluxe-watts"
      },
      "source": [
        "from sklearn.feature_extraction.text import TfidfVectorizer\n",
        "tfidf_vect = TfidfVectorizer(stop_words='english',strip_accents='unicode', min_df= 2)"
      ],
      "id": "deluxe-watts",
      "execution_count": null,
      "outputs": []
    },
    {
      "cell_type": "code",
      "metadata": {
        "id": "dominican-quilt"
      },
      "source": [
        "X=tfidf_vect.fit_transform(df['Text'])"
      ],
      "id": "dominican-quilt",
      "execution_count": null,
      "outputs": []
    },
    {
      "cell_type": "markdown",
      "metadata": {
        "id": "informational-kinase"
      },
      "source": [
        "5.  Split the emails into training and test sets."
      ],
      "id": "informational-kinase"
    },
    {
      "cell_type": "code",
      "metadata": {
        "id": "central-samoa"
      },
      "source": [
        "from sklearn.model_selection import train_test_split as split"
      ],
      "id": "central-samoa",
      "execution_count": null,
      "outputs": []
    },
    {
      "cell_type": "code",
      "metadata": {
        "id": "potential-surname"
      },
      "source": [
        "X_train, X_test, y_train, y_test = split(X,df['Type'])"
      ],
      "id": "potential-surname",
      "execution_count": null,
      "outputs": []
    },
    {
      "cell_type": "markdown",
      "metadata": {
        "id": "fiscal-catch"
      },
      "source": [
        "6.  Try out several classifiers (e.g., Naive Bayes, KNN, logistic regression) and see if youcan build a great spam classifier, with both high recall and high precision."
      ],
      "id": "fiscal-catch"
    },
    {
      "cell_type": "code",
      "metadata": {
        "id": "naughty-validity",
        "outputId": "50076742-2753-49b8-e6e7-5e9912df1c24"
      },
      "source": [
        "from sklearn.naive_bayes import MultinomialNB\n",
        "\n",
        "clf = MultinomialNB()\n",
        "\n",
        "clf.fit(X_train, y_train)\n",
        "\n",
        "print('train: ', clf.score(X_train, y_train),\n",
        "      'test: ', clf.score(X_test, y_test))"
      ],
      "id": "naughty-validity",
      "execution_count": null,
      "outputs": [
        {
          "output_type": "stream",
          "text": [
            "train:  0.9128888888888889 test:  0.9013333333333333\n"
          ],
          "name": "stdout"
        }
      ]
    },
    {
      "cell_type": "code",
      "metadata": {
        "id": "demonstrated-helping",
        "outputId": "60ccad5c-6700-4ed2-a494-aca38b02b146"
      },
      "source": [
        "from sklearn.neighbors import KNeighborsRegressor\n",
        "\n",
        "dlf = KNeighborsRegressor()\n",
        "\n",
        "dlf.fit(X_train, y_train)\n",
        "\n",
        "print('train: ', dlf.score(X_train, y_train),\n",
        "      'test: ', dlf.score(X_test, y_test))"
      ],
      "id": "demonstrated-helping",
      "execution_count": null,
      "outputs": [
        {
          "output_type": "stream",
          "text": [
            "train:  -0.08821733821733857 test:  -0.7502871462879817\n"
          ],
          "name": "stdout"
        }
      ]
    },
    {
      "cell_type": "code",
      "metadata": {
        "id": "reflected-missile",
        "outputId": "a6d06090-ba7d-456a-e706-13a64c948842"
      },
      "source": [
        "from sklearn.linear_model import LogisticRegression\n",
        "\n",
        "elf = LogisticRegression()\n",
        "\n",
        "elf.fit(X_train, y_train)\n",
        "\n",
        "print('train: ', elf.score(X_train, y_train),\n",
        "      'test: ', elf.score(X_test, y_test))"
      ],
      "id": "reflected-missile",
      "execution_count": null,
      "outputs": [
        {
          "output_type": "stream",
          "text": [
            "train:  0.9546666666666667 test:  0.9466666666666667\n"
          ],
          "name": "stdout"
        }
      ]
    },
    {
      "cell_type": "markdown",
      "metadata": {
        "id": "deadly-cooking"
      },
      "source": [
        "7.  Show the confusion matrix and the classification report of your best classifier on boththe training and the test set."
      ],
      "id": "deadly-cooking"
    },
    {
      "cell_type": "code",
      "metadata": {
        "id": "junior-crowd"
      },
      "source": [
        "from sklearn.metrics import confusion_matrix\n",
        "\n",
        "test_pred = elf.predict(X_test)\n",
        "test_mat = confusion_matrix(y_test, test_pred)\n",
        "\n",
        "train_pred = elf.predict(X_train)\n",
        "train_mat = confusion_matrix(y_train, train_pred)"
      ],
      "id": "junior-crowd",
      "execution_count": null,
      "outputs": []
    },
    {
      "cell_type": "code",
      "metadata": {
        "id": "entire-switzerland",
        "outputId": "db0e7a21-ce57-4238-b63c-5aad82b49f09"
      },
      "source": [
        "test_mat"
      ],
      "id": "entire-switzerland",
      "execution_count": null,
      "outputs": [
        {
          "output_type": "execute_result",
          "data": {
            "text/plain": [
              "array([[628,   0],\n",
              "       [ 40,  82]], dtype=int64)"
            ]
          },
          "metadata": {
            "tags": []
          },
          "execution_count": 19
        }
      ]
    },
    {
      "cell_type": "code",
      "metadata": {
        "id": "healthy-secret",
        "outputId": "b144e88c-dc1c-414e-81ab-e1fdd9d47b4d"
      },
      "source": [
        "train_mat"
      ],
      "id": "healthy-secret",
      "execution_count": null,
      "outputs": [
        {
          "output_type": "execute_result",
          "data": {
            "text/plain": [
              "array([[1872,    0],\n",
              "       [ 102,  276]], dtype=int64)"
            ]
          },
          "metadata": {
            "tags": []
          },
          "execution_count": 20
        }
      ]
    },
    {
      "cell_type": "code",
      "metadata": {
        "id": "hungarian-stopping",
        "outputId": "a12990a5-1c41-4737-96de-53825c3b448f"
      },
      "source": [
        "import seaborn as sns\n",
        "xlabels = ['Pred Spam','Pred Ham']\n",
        "ylabels = ['Act Spam','Act Ham']\n",
        "sns.heatmap(train_mat, annot=True, xticklabels= xlabels, yticklabels= ylabels, fmt ='', cmap='Blues')\n",
        "plt.title('Train Confusion Matrix');"
      ],
      "id": "hungarian-stopping",
      "execution_count": null,
      "outputs": [
        {
          "output_type": "display_data",
          "data": {
            "image/png": "[encoded data removed]",
            "text/plain": [
              "<Figure size 432x288 with 2 Axes>"
            ]
          },
          "metadata": {
            "tags": [],
            "needs_background": "light"
          }
        }
      ]
    },
    {
      "cell_type": "code",
      "metadata": {
        "id": "circular-driving",
        "outputId": "4c0b18d8-2b11-4ec1-b5d9-827e8464fd4d"
      },
      "source": [
        "sns.heatmap(test_mat, annot=True, xticklabels= xlabels, yticklabels= ylabels, fmt='', cmap='Blues')\n",
        "plt.title('Test Confusion Matrix');"
      ],
      "id": "circular-driving",
      "execution_count": null,
      "outputs": [
        {
          "output_type": "display_data",
          "data": {
            "image/png": "[encoded data removed]",
            "text/plain": [
              "<Figure size 432x288 with 2 Axes>"
            ]
          },
          "metadata": {
            "tags": [],
            "needs_background": "light"
          }
        }
      ]
    },
    {
      "cell_type": "markdown",
      "metadata": {
        "id": "adjusted-vegetarian"
      },
      "source": [
        "8.  How  does  the  size  of  the  training  set  affect  the  classifier’s  performance?   Train  your classifier with different training set sizes, and show the learning curve (test set error vs.training set size)."
      ],
      "id": "adjusted-vegetarian"
    },
    {
      "cell_type": "code",
      "metadata": {
        "id": "grateful-enlargement"
      },
      "source": [
        "ilist = []\n",
        "testlist = []\n",
        "for i in range(10,95,5):\n",
        "    \n",
        "    X_train, X_test, y_train, y_test = split(X,df['Type'],train_size=i/100)\n",
        "\n",
        "    elf.fit(X_train, y_train)\n",
        "    ilist.append(i/100)\n",
        "    testlist.append(1-elf.score(X_test, y_test))"
      ],
      "id": "grateful-enlargement",
      "execution_count": null,
      "outputs": []
    },
    {
      "cell_type": "code",
      "metadata": {
        "id": "first-strap",
        "outputId": "b68a3634-b2cb-4908-8487-eeedb8b9f0b0"
      },
      "source": [
        "plt.plot(ilist,testlist)\n",
        "plt.xlabel('Training Size')\n",
        "plt.ylabel('Test Error');"
      ],
      "id": "first-strap",
      "execution_count": null,
      "outputs": [
        {
          "output_type": "display_data",
          "data": {
            "image/png": "[encoded data removed]",
            "text/plain": [
              "<Figure size 432x288 with 1 Axes>"
            ]
          },
          "metadata": {
            "tags": [],
            "needs_background": "light"
          }
        }
      ]
    },
    {
      "cell_type": "markdown",
      "metadata": {
        "id": "coated-tours"
      },
      "source": [
        "As the training size increases, the test error decreases but begins to increase around a training size of 0.85"
      ],
      "id": "coated-tours"
    },
    {
      "cell_type": "markdown",
      "metadata": {
        "id": "lightweight-virtue"
      },
      "source": [
        "9.  Intuitively, some tokens may be particularly indicative of an email being in a particular class.  We can get an informal sense of how indicative tokeniis for the spam class by looking at: \n",
        "\n",
        "log(P(tokeni|email is spamP(tokeni|email is ham)\n",
        "\n",
        "Using this measure, find the 5 tokens that are most indicative of the spam class (i.e.,have the highest positive value on the measure above)."
      ],
      "id": "lightweight-virtue"
    },
    {
      "cell_type": "code",
      "metadata": {
        "id": "common-millennium"
      },
      "source": [
        "corp = tfidf_vect.get_feature_names()"
      ],
      "id": "common-millennium",
      "execution_count": null,
      "outputs": []
    },
    {
      "cell_type": "code",
      "metadata": {
        "id": "removed-uruguay",
        "outputId": "7fb0c3e1-5327-4eca-bca8-4cc14021609c"
      },
      "source": [
        "pd.DataFrame(X.toarray(), columns=tfidf_vect.get_feature_names())"
      ],
      "id": "removed-uruguay",
      "execution_count": null,
      "outputs": [
        {
          "output_type": "execute_result",
          "data": {
            "text/html": [
              "<div>\n",
              "<style scoped>\n",
              "    .dataframe tbody tr th:only-of-type {\n",
              "        vertical-align: middle;\n",
              "    }\n",
              "\n",
              "    .dataframe tbody tr th {\n",
              "        vertical-align: top;\n",
              "    }\n",
              "\n",
              "    .dataframe thead th {\n",
              "        text-align: right;\n",
              "    }\n",
              "</style>\n",
              "<table border=\"1\" class=\"dataframe\">\n",
              "  <thead>\n",
              "    <tr style=\"text-align: right;\">\n",
              "      <th></th>\n",
              "      <th>00</th>\n",
              "      <th>000</th>\n",
              "      <th>0000</th>\n",
              "      <th>0001015</th>\n",
              "      <th>000187</th>\n",
              "      <th>000194</th>\n",
              "      <th>000203</th>\n",
              "      <th>000541</th>\n",
              "      <th>000609</th>\n",
              "      <th>000619</th>\n",
              "      <th>...</th>\n",
              "      <th>zoot</th>\n",
              "      <th>zope</th>\n",
              "      <th>zou</th>\n",
              "      <th>zurich</th>\n",
              "      <th>zvao</th>\n",
              "      <th>zyxel</th>\n",
              "      <th>zzzlist</th>\n",
              "      <th>zzzz</th>\n",
              "      <th>zzzzason</th>\n",
              "      <th>zzzzteana</th>\n",
              "    </tr>\n",
              "  </thead>\n",
              "  <tbody>\n",
              "    <tr>\n",
              "      <th>0</th>\n",
              "      <td>0.000000</td>\n",
              "      <td>0.000000</td>\n",
              "      <td>0.0</td>\n",
              "      <td>0.0</td>\n",
              "      <td>0.0</td>\n",
              "      <td>0.0</td>\n",
              "      <td>0.0</td>\n",
              "      <td>0.0</td>\n",
              "      <td>0.0</td>\n",
              "      <td>0.0</td>\n",
              "      <td>...</td>\n",
              "      <td>0.0</td>\n",
              "      <td>0.0</td>\n",
              "      <td>0.0</td>\n",
              "      <td>0.0</td>\n",
              "      <td>0.0</td>\n",
              "      <td>0.0</td>\n",
              "      <td>0.0</td>\n",
              "      <td>0.0</td>\n",
              "      <td>0.0</td>\n",
              "      <td>0.000000</td>\n",
              "    </tr>\n",
              "    <tr>\n",
              "      <th>1</th>\n",
              "      <td>0.000000</td>\n",
              "      <td>0.000000</td>\n",
              "      <td>0.0</td>\n",
              "      <td>0.0</td>\n",
              "      <td>0.0</td>\n",
              "      <td>0.0</td>\n",
              "      <td>0.0</td>\n",
              "      <td>0.0</td>\n",
              "      <td>0.0</td>\n",
              "      <td>0.0</td>\n",
              "      <td>...</td>\n",
              "      <td>0.0</td>\n",
              "      <td>0.0</td>\n",
              "      <td>0.0</td>\n",
              "      <td>0.0</td>\n",
              "      <td>0.0</td>\n",
              "      <td>0.0</td>\n",
              "      <td>0.0</td>\n",
              "      <td>0.0</td>\n",
              "      <td>0.0</td>\n",
              "      <td>0.080477</td>\n",
              "    </tr>\n",
              "    <tr>\n",
              "      <th>2</th>\n",
              "      <td>0.000000</td>\n",
              "      <td>0.000000</td>\n",
              "      <td>0.0</td>\n",
              "      <td>0.0</td>\n",
              "      <td>0.0</td>\n",
              "      <td>0.0</td>\n",
              "      <td>0.0</td>\n",
              "      <td>0.0</td>\n",
              "      <td>0.0</td>\n",
              "      <td>0.0</td>\n",
              "      <td>...</td>\n",
              "      <td>0.0</td>\n",
              "      <td>0.0</td>\n",
              "      <td>0.0</td>\n",
              "      <td>0.0</td>\n",
              "      <td>0.0</td>\n",
              "      <td>0.0</td>\n",
              "      <td>0.0</td>\n",
              "      <td>0.0</td>\n",
              "      <td>0.0</td>\n",
              "      <td>0.045769</td>\n",
              "    </tr>\n",
              "    <tr>\n",
              "      <th>3</th>\n",
              "      <td>0.033163</td>\n",
              "      <td>0.000000</td>\n",
              "      <td>0.0</td>\n",
              "      <td>0.0</td>\n",
              "      <td>0.0</td>\n",
              "      <td>0.0</td>\n",
              "      <td>0.0</td>\n",
              "      <td>0.0</td>\n",
              "      <td>0.0</td>\n",
              "      <td>0.0</td>\n",
              "      <td>...</td>\n",
              "      <td>0.0</td>\n",
              "      <td>0.0</td>\n",
              "      <td>0.0</td>\n",
              "      <td>0.0</td>\n",
              "      <td>0.0</td>\n",
              "      <td>0.0</td>\n",
              "      <td>0.0</td>\n",
              "      <td>0.0</td>\n",
              "      <td>0.0</td>\n",
              "      <td>0.000000</td>\n",
              "    </tr>\n",
              "    <tr>\n",
              "      <th>4</th>\n",
              "      <td>0.000000</td>\n",
              "      <td>0.000000</td>\n",
              "      <td>0.0</td>\n",
              "      <td>0.0</td>\n",
              "      <td>0.0</td>\n",
              "      <td>0.0</td>\n",
              "      <td>0.0</td>\n",
              "      <td>0.0</td>\n",
              "      <td>0.0</td>\n",
              "      <td>0.0</td>\n",
              "      <td>...</td>\n",
              "      <td>0.0</td>\n",
              "      <td>0.0</td>\n",
              "      <td>0.0</td>\n",
              "      <td>0.0</td>\n",
              "      <td>0.0</td>\n",
              "      <td>0.0</td>\n",
              "      <td>0.0</td>\n",
              "      <td>0.0</td>\n",
              "      <td>0.0</td>\n",
              "      <td>0.069213</td>\n",
              "    </tr>\n",
              "    <tr>\n",
              "      <th>...</th>\n",
              "      <td>...</td>\n",
              "      <td>...</td>\n",
              "      <td>...</td>\n",
              "      <td>...</td>\n",
              "      <td>...</td>\n",
              "      <td>...</td>\n",
              "      <td>...</td>\n",
              "      <td>...</td>\n",
              "      <td>...</td>\n",
              "      <td>...</td>\n",
              "      <td>...</td>\n",
              "      <td>...</td>\n",
              "      <td>...</td>\n",
              "      <td>...</td>\n",
              "      <td>...</td>\n",
              "      <td>...</td>\n",
              "      <td>...</td>\n",
              "      <td>...</td>\n",
              "      <td>...</td>\n",
              "      <td>...</td>\n",
              "      <td>...</td>\n",
              "    </tr>\n",
              "    <tr>\n",
              "      <th>2995</th>\n",
              "      <td>0.000000</td>\n",
              "      <td>0.000000</td>\n",
              "      <td>0.0</td>\n",
              "      <td>0.0</td>\n",
              "      <td>0.0</td>\n",
              "      <td>0.0</td>\n",
              "      <td>0.0</td>\n",
              "      <td>0.0</td>\n",
              "      <td>0.0</td>\n",
              "      <td>0.0</td>\n",
              "      <td>...</td>\n",
              "      <td>0.0</td>\n",
              "      <td>0.0</td>\n",
              "      <td>0.0</td>\n",
              "      <td>0.0</td>\n",
              "      <td>0.0</td>\n",
              "      <td>0.0</td>\n",
              "      <td>0.0</td>\n",
              "      <td>0.0</td>\n",
              "      <td>0.0</td>\n",
              "      <td>0.000000</td>\n",
              "    </tr>\n",
              "    <tr>\n",
              "      <th>2996</th>\n",
              "      <td>0.000000</td>\n",
              "      <td>0.000000</td>\n",
              "      <td>0.0</td>\n",
              "      <td>0.0</td>\n",
              "      <td>0.0</td>\n",
              "      <td>0.0</td>\n",
              "      <td>0.0</td>\n",
              "      <td>0.0</td>\n",
              "      <td>0.0</td>\n",
              "      <td>0.0</td>\n",
              "      <td>...</td>\n",
              "      <td>0.0</td>\n",
              "      <td>0.0</td>\n",
              "      <td>0.0</td>\n",
              "      <td>0.0</td>\n",
              "      <td>0.0</td>\n",
              "      <td>0.0</td>\n",
              "      <td>0.0</td>\n",
              "      <td>0.0</td>\n",
              "      <td>0.0</td>\n",
              "      <td>0.000000</td>\n",
              "    </tr>\n",
              "    <tr>\n",
              "      <th>2997</th>\n",
              "      <td>0.000000</td>\n",
              "      <td>0.000000</td>\n",
              "      <td>0.0</td>\n",
              "      <td>0.0</td>\n",
              "      <td>0.0</td>\n",
              "      <td>0.0</td>\n",
              "      <td>0.0</td>\n",
              "      <td>0.0</td>\n",
              "      <td>0.0</td>\n",
              "      <td>0.0</td>\n",
              "      <td>...</td>\n",
              "      <td>0.0</td>\n",
              "      <td>0.0</td>\n",
              "      <td>0.0</td>\n",
              "      <td>0.0</td>\n",
              "      <td>0.0</td>\n",
              "      <td>0.0</td>\n",
              "      <td>0.0</td>\n",
              "      <td>0.0</td>\n",
              "      <td>0.0</td>\n",
              "      <td>0.000000</td>\n",
              "    </tr>\n",
              "    <tr>\n",
              "      <th>2998</th>\n",
              "      <td>0.000000</td>\n",
              "      <td>0.045098</td>\n",
              "      <td>0.0</td>\n",
              "      <td>0.0</td>\n",
              "      <td>0.0</td>\n",
              "      <td>0.0</td>\n",
              "      <td>0.0</td>\n",
              "      <td>0.0</td>\n",
              "      <td>0.0</td>\n",
              "      <td>0.0</td>\n",
              "      <td>...</td>\n",
              "      <td>0.0</td>\n",
              "      <td>0.0</td>\n",
              "      <td>0.0</td>\n",
              "      <td>0.0</td>\n",
              "      <td>0.0</td>\n",
              "      <td>0.0</td>\n",
              "      <td>0.0</td>\n",
              "      <td>0.0</td>\n",
              "      <td>0.0</td>\n",
              "      <td>0.000000</td>\n",
              "    </tr>\n",
              "    <tr>\n",
              "      <th>2999</th>\n",
              "      <td>0.000000</td>\n",
              "      <td>0.000000</td>\n",
              "      <td>0.0</td>\n",
              "      <td>0.0</td>\n",
              "      <td>0.0</td>\n",
              "      <td>0.0</td>\n",
              "      <td>0.0</td>\n",
              "      <td>0.0</td>\n",
              "      <td>0.0</td>\n",
              "      <td>0.0</td>\n",
              "      <td>...</td>\n",
              "      <td>0.0</td>\n",
              "      <td>0.0</td>\n",
              "      <td>0.0</td>\n",
              "      <td>0.0</td>\n",
              "      <td>0.0</td>\n",
              "      <td>0.0</td>\n",
              "      <td>0.0</td>\n",
              "      <td>0.0</td>\n",
              "      <td>0.0</td>\n",
              "      <td>0.000000</td>\n",
              "    </tr>\n",
              "  </tbody>\n",
              "</table>\n",
              "<p>3000 rows × 18356 columns</p>\n",
              "</div>"
            ],
            "text/plain": [
              "            00       000  0000  0001015  000187  000194  000203  000541  \\\n",
              "0     0.000000  0.000000   0.0      0.0     0.0     0.0     0.0     0.0   \n",
              "1     0.000000  0.000000   0.0      0.0     0.0     0.0     0.0     0.0   \n",
              "2     0.000000  0.000000   0.0      0.0     0.0     0.0     0.0     0.0   \n",
              "3     0.033163  0.000000   0.0      0.0     0.0     0.0     0.0     0.0   \n",
              "4     0.000000  0.000000   0.0      0.0     0.0     0.0     0.0     0.0   \n",
              "...        ...       ...   ...      ...     ...     ...     ...     ...   \n",
              "2995  0.000000  0.000000   0.0      0.0     0.0     0.0     0.0     0.0   \n",
              "2996  0.000000  0.000000   0.0      0.0     0.0     0.0     0.0     0.0   \n",
              "2997  0.000000  0.000000   0.0      0.0     0.0     0.0     0.0     0.0   \n",
              "2998  0.000000  0.045098   0.0      0.0     0.0     0.0     0.0     0.0   \n",
              "2999  0.000000  0.000000   0.0      0.0     0.0     0.0     0.0     0.0   \n",
              "\n",
              "      000609  000619  ...  zoot  zope  zou  zurich  zvao  zyxel  zzzlist  \\\n",
              "0        0.0     0.0  ...   0.0   0.0  0.0     0.0   0.0    0.0      0.0   \n",
              "1        0.0     0.0  ...   0.0   0.0  0.0     0.0   0.0    0.0      0.0   \n",
              "2        0.0     0.0  ...   0.0   0.0  0.0     0.0   0.0    0.0      0.0   \n",
              "3        0.0     0.0  ...   0.0   0.0  0.0     0.0   0.0    0.0      0.0   \n",
              "4        0.0     0.0  ...   0.0   0.0  0.0     0.0   0.0    0.0      0.0   \n",
              "...      ...     ...  ...   ...   ...  ...     ...   ...    ...      ...   \n",
              "2995     0.0     0.0  ...   0.0   0.0  0.0     0.0   0.0    0.0      0.0   \n",
              "2996     0.0     0.0  ...   0.0   0.0  0.0     0.0   0.0    0.0      0.0   \n",
              "2997     0.0     0.0  ...   0.0   0.0  0.0     0.0   0.0    0.0      0.0   \n",
              "2998     0.0     0.0  ...   0.0   0.0  0.0     0.0   0.0    0.0      0.0   \n",
              "2999     0.0     0.0  ...   0.0   0.0  0.0     0.0   0.0    0.0      0.0   \n",
              "\n",
              "      zzzz  zzzzason  zzzzteana  \n",
              "0      0.0       0.0   0.000000  \n",
              "1      0.0       0.0   0.080477  \n",
              "2      0.0       0.0   0.045769  \n",
              "3      0.0       0.0   0.000000  \n",
              "4      0.0       0.0   0.069213  \n",
              "...    ...       ...        ...  \n",
              "2995   0.0       0.0   0.000000  \n",
              "2996   0.0       0.0   0.000000  \n",
              "2997   0.0       0.0   0.000000  \n",
              "2998   0.0       0.0   0.000000  \n",
              "2999   0.0       0.0   0.000000  \n",
              "\n",
              "[3000 rows x 18356 columns]"
            ]
          },
          "metadata": {
            "tags": []
          },
          "execution_count": 26
        }
      ]
    },
    {
      "cell_type": "code",
      "metadata": {
        "id": "armed-prompt"
      },
      "source": [
        "df = pd.DataFrame(\n",
        "    {'word': tfidf_vect.get_feature_names()\n",
        "    })"
      ],
      "id": "armed-prompt",
      "execution_count": null,
      "outputs": []
    },
    {
      "cell_type": "code",
      "metadata": {
        "id": "present-elevation"
      },
      "source": [
        ""
      ],
      "id": "present-elevation",
      "execution_count": null,
      "outputs": []
    },
    {
      "cell_type": "code",
      "metadata": {
        "id": "apparent-uncle"
      },
      "source": [
        ""
      ],
      "id": "apparent-uncle",
      "execution_count": null,
      "outputs": []
    }
  ]
}